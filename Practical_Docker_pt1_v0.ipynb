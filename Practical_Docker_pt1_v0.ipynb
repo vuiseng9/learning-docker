{
 "cells": [
  {
   "cell_type": "markdown",
   "metadata": {
    "slideshow": {
     "slide_type": "slide"
    }
   },
   "source": [
    "# Practical Docker: Part 1\n",
    "---------------------------------------------------------\n",
    "## Containers: Build Once, Run Anywhere\n",
    "\n",
    "\n",
    "### *IT/EAD/Flex Solutions Penang*\n",
    "*2019'WW40* \n",
    "\n",
    "*by VS* (vui.seng.chua@intel.com)"
   ]
  },
  {
   "cell_type": "markdown",
   "metadata": {
    "slideshow": {
     "slide_type": "slide"
    }
   },
   "source": [
    ">  \"The Good Old Days\"\n",
    ">\n",
    ">> # ¯\\\\_(ツ)_/¯\n",
    "> # It works on my machine!!"
   ]
  },
  {
   "cell_type": "markdown",
   "metadata": {
    "slideshow": {
     "slide_type": "slide"
    }
   },
   "source": [
    "# Convention in this presentation\n",
    "\n",
    "```Commands will be highlighted like this```\n",
    "\n",
    "These are commands for you try out at your end when following through the slides.\n",
    "\n",
    ".................................................................................................................................................................................\n",
    "\n",
    "```\n",
    "Traces in the terminal...\n",
    ".\n",
    ".\n",
    ".\n",
    "```\n",
    "\n",
    "Unhighlighted block with monospace font is the example output of commands. You should expect to see similar output at your end.\n",
    "\n",
    ".................................................................................................................................................................................\n",
    "\n",
    "##### Quiz: \n",
    "Checkpoint quizzes for self-assessment or leading to next discussion\n"
   ]
  },
  {
   "cell_type": "markdown",
   "metadata": {
    "slideshow": {
     "slide_type": "slide"
    }
   },
   "source": [
    "# Setting Up Docker\n",
    "\n",
    "* Easy Peasy, look for the steps for your host OS at Docker official page. In general, we can rely on yum/apt for Linux system.\n",
    "\n",
    "  [Install Docker for Ubuntu](https://docs.docker.com/install/linux/docker-ce/ubuntu/)\n",
    "\n",
    "\n",
    "\n",
    "* Slightly complicated if you are behind proxy, just like Intel Network.\n",
    "\n",
    "  [BKM on Intel Network](https://gitlab.devtools.intel.com/vchua/docker-setup)\n",
    "  \n",
    "  Please share your BKM too!"
   ]
  },
  {
   "cell_type": "markdown",
   "metadata": {
    "slideshow": {
     "slide_type": "slide"
    }
   },
   "source": [
    "# Special Config for Today (1/2)\n",
    "\n",
    "* Docker requires root access to operate. Do the following to avoid putting ```sudo``` for every docker command.\n",
    "\n",
    "   ```sudo groupadd docker```\n",
    "   \n",
    "   ```sudo gpasswd -a $USER docker```\n",
    "\n",
    "\n",
    "exit your shell, and re-log in\n",
    "\n",
    "\n",
    "* Add the following to your ```~/.bashrc```\n",
    "```bash\n",
    "export DOCKER_PROXY_RUN_ARGS=\"\\\n",
    "            --env HTTPS_PROXY=$HTTPS_PROXY \\\n",
    "            --env https_proxy=$https_proxy \\\n",
    "            --env HTTP_PROXY=$HTTP_PROXY \\\n",
    "            --env http_proxy=$http_proxy \\\n",
    "            --env NO_PROXY=$NO_PROXY \\\n",
    "            --env no_proxy=$no_proxy \\\n",
    "            --dns 10.248.2.1\"\n",
    "```\n",
    "```bash\n",
    "export DOCKER_PROXY_BUILD_ARGS=\"\\\n",
    "            --build-arg HTTPS_PROXY=$HTTPS_PROXY \\\n",
    "            --build-arg https_proxy=$https_proxy \\\n",
    "            --build-arg HTTP_PROXY=$HTTP_PROXY \\\n",
    "            --build-arg http_proxy=$http_proxy \\\n",
    "            --build-arg NO_PROXY=$NO_PROXY \\\n",
    "            --build-arg no_proxy=$no_proxy\"\n",
    "```"
   ]
  },
  {
   "cell_type": "markdown",
   "metadata": {
    "slideshow": {
     "slide_type": "slide"
    }
   },
   "source": [
    "# Special Config for Today (2/2)\n",
    "\n",
    "* If you want to access internet in the container runtime, you need to supply the proxy config during instantiation\n",
    "\n",
    "  ```source ~/.bashrc``` if you do not re-log in.\n",
    "\n",
    "  ```docker run $DOCKER_PROXY_RUN_ARGS ubuntu```\n",
    "  \n",
    "  \n",
    "*These two slides are specific to the training today. Will be removed later*"
   ]
  },
  {
   "cell_type": "markdown",
   "metadata": {
    "slideshow": {
     "slide_type": "slide"
    }
   },
   "source": [
    "# Survival Guide\n",
    "\n",
    "```docker help```\n",
    "\n",
    "This help provides a short description for each of the docker command. For extensive help, search online or go to https://docs.docker.com/reference/  \n",
    "\n",
    ".................................................................................................................................................................................\n",
    "\n",
    "```docker <command> --help```\n",
    "\n",
    "There are switches w.r.t the docker commands. Use ```--help``` to get the description for the switches\n",
    "\n",
    "\n",
    "##### Quiz: how many switches are there for docker ```stop``` command?"
   ]
  },
  {
   "cell_type": "markdown",
   "metadata": {
    "slideshow": {
     "slide_type": "slide"
    }
   },
   "source": [
    "# Hello World\n",
    "\n",
    "```docker run hello-world```\n",
    "\n",
    "```\n",
    "vchua@flexpg-vbox1:~$ docker run hello-world\n",
    "\n",
    "Unable to find image 'hello-world:latest' locally\n",
    "latest: Pulling from library/hello-world\n",
    "1b930d010525: Pull complete\n",
    "Digest: sha256:b8ba256769a0ac28dd126d584e0a2011cd2877f3f76e093a7ae560f2a5301c00\n",
    "Status: Downloaded newer image for hello-world:latest\n",
    "\n",
    "Hello from Docker!\n",
    "This message shows that your installation appears to be working correctly.\n",
    "\n",
    "To generate this message, Docker took the following steps:\n",
    " 1. The Docker client contacted the Docker daemon.\n",
    " 2. The Docker daemon pulled the \"hello-world\" image from the Docker Hub.\n",
    "    (amd64)\n",
    " 3. The Docker daemon created a new container from that image which runs the\n",
    "    executable that produces the output you are currently reading.\n",
    " 4. The Docker daemon streamed that output to the Docker client, which sent it\n",
    "    to your terminal.\n",
    "\n",
    "To try something more ambitious, you can run an Ubuntu container with:\n",
    " $ docker run -it ubuntu bash\n",
    "\n",
    "Share images, automate workflows, and more with a free Docker ID:\n",
    " https://hub.docker.com/\n",
    "\n",
    "For more examples and ideas, visit:\n",
    " https://docs.docker.com/get-started/\n",
    "```"
   ]
  },
  {
   "cell_type": "markdown",
   "metadata": {
    "slideshow": {
     "slide_type": "slide"
    }
   },
   "source": [
    "# Where does the image come from?\n",
    "\n",
    "### [Docker Hub](https://hub.docker.com/)\n",
    "\n",
    "```search with keyword hello-world```\n",
    "\n",
    "##### Quiz: what information is available?\n",
    "##### Quiz: Try to search some popular apps?\n",
    "\n",
    "## *Pretty much you can run anything that somebody has shared. We don't have to rebuild!*\n",
    "\n",
    "___________\n",
    "# Run a ubuntu image\n",
    "```docker run ubuntu```\n",
    "\n",
    "##### Quiz: Discuss what you see in the output?"
   ]
  },
  {
   "cell_type": "markdown",
   "metadata": {
    "slideshow": {
     "slide_type": "slide"
    }
   },
   "source": [
    "```\n",
    "vchua@flexpg-vbox1:~$ docker run ubuntu\n",
    "\n",
    "Unable to find image 'ubuntu:latest' locally\n",
    "latest: Pulling from library/ubuntu\n",
    "5667fdb72017: Pull complete\n",
    "d83811f270d5: Pull complete\n",
    "ee671aafb583: Pull complete\n",
    "7fc152dfb3a6: Pull complete\n",
    "Digest: sha256:b88f8848e9a1a4e4558ba7cfc4acc5879e1d0e7ac06401409062ad2627e6fb58\n",
    "Status: Downloaded newer image for ubuntu:latest\n",
    "vchua@flexpg-vbox1:~$\n",
    "```\n",
    "\n",
    "> *NOTHING HAPPEN after image is downloaded?!*\n",
    "\n",
    "##### Quiz: Why?"
   ]
  },
  {
   "cell_type": "markdown",
   "metadata": {
    "slideshow": {
     "slide_type": "slide"
    }
   },
   "source": [
    "# List container images in your system\n",
    "\n",
    "```docker images```\n",
    "\n",
    "```\n",
    "vchua@flexpg-vbox1:~$ docker images\n",
    "\n",
    "REPOSITORY          TAG                 IMAGE ID            CREATED             SIZE\n",
    "ubuntu              latest              2ca708c1c9cc        2 weeks ago         64.2MB\n",
    "hello-world         latest              fce289e99eb9        9 months ago        1.84kB\n",
    "```\n",
    "\n",
    "##### Quiz: What is TAG?"
   ]
  },
  {
   "cell_type": "markdown",
   "metadata": {
    "slideshow": {
     "slide_type": "slide"
    }
   },
   "source": [
    "# Container Tag\n",
    "\n",
    "Let's download a few ubuntu version to our system.\n",
    "\n",
    "```docker pull ubuntu:16.04```\n",
    "\n",
    "```docker pull ubuntu:18.04```\n",
    "\n",
    "```\n",
    "vchua@flexpg-vbox1:~$ docker images\n",
    "\n",
    "REPOSITORY          TAG                 IMAGE ID            CREATED             SIZE\n",
    "ubuntu              16.04               657d80a6401d        2 weeks ago         121MB\n",
    "ubuntu              18.04               2ca708c1c9cc        2 weeks ago         64.2MB\n",
    "ubuntu              latest              2ca708c1c9cc        2 weeks ago         64.2MB\n",
    "hello-world         latest              fce289e99eb9        9 months ago        1.84kB\n",
    "```\n",
    "\n",
    "Observe the Image Id, do you see the Id of ubuntu:latest == Id of ubuntu:18.04?\n",
    "\n",
    "##### Quiz: What is purpose of tag? how can it be used for?"
   ]
  },
  {
   "cell_type": "markdown",
   "metadata": {
    "slideshow": {
     "slide_type": "slide"
    }
   },
   "source": [
    "# Tag an image\n",
    "\n",
    "```docker tag ubuntu:16.04 favorite-ubt:v0```\n",
    "\n",
    "```\n",
    "vchua@flexpg-vbox1:~$ docker tag ubuntu:16.04 favorite-ubt:v0\n",
    "vchua@flexpg-vbox1:~$ docker images\n",
    "\n",
    "REPOSITORY          TAG                 IMAGE ID            CREATED             SIZE\n",
    "favorite-ubt        v0                  657d80a6401d        2 weeks ago         121MB\n",
    "ubuntu              16.04               657d80a6401d        2 weeks ago         121MB\n",
    "ubuntu              18.04               2ca708c1c9cc        2 weeks ago         64.2MB\n",
    "ubuntu              latest              2ca708c1c9cc        2 weeks ago         64.2MB\n",
    "hello-world         latest              fce289e99eb9        9 months ago        1.84kB\n",
    "```\n",
    "\n",
    "[More on tag](https://docs.docker.com/engine/reference/commandline/tag/)"
   ]
  },
  {
   "cell_type": "markdown",
   "metadata": {
    "slideshow": {
     "slide_type": "slide"
    }
   },
   "source": [
    "# Entrypoint\n",
    "\n",
    "Entrypoint is the default command that is executed when you instantiate a container. For example, the ```hello-world``` executes the program to print \"Hello from Docker\" and the rest of the information. The instance exits once the entrypoint command is complete.\n",
    "\n",
    "There are images without an entrypoint. In that case, nothing will happen, just like you did ```docker run ubuntu``` earlier.\n",
    "\n",
    "##### Quiz: How can i know the entrypoint of a container?\n",
    "\n",
    "\n",
    "--------------------\n",
    "\n",
    "# Override Entrypoint\n",
    "```docker run ubuntu echo \"Great to see you again, pal!\"```\n",
    "\n",
    "```\n",
    "vchua@flexpg-vbox1:~$ docker run ubuntu echo \"Great to see you again, pal!\"\n",
    "Great to see you again, pal!\n",
    "```\n",
    "\n"
   ]
  },
  {
   "cell_type": "markdown",
   "metadata": {
    "slideshow": {
     "slide_type": "slide"
    }
   },
   "source": [
    "# Interactive Shell in Ubuntu instance\n",
    "\n",
    "Now, we can override the entry command, since it is a ubuntu image, it will be useful we can use it like a native OS.\n",
    "\n",
    "```docker run $DOCKER_PROXY_RUN_ARGS -i -t ubuntu bash```\n",
    "\n",
    "```\n",
    "vchua@flexpg-vbox1:~$ docker run -i -t ubuntu:18.04 bash\n",
    "root@3f447cf241e8:/#\n",
    "root@3f447cf241e8:/# cat /etc/lsb-release\n",
    "DISTRIB_ID=Ubuntu\n",
    "DISTRIB_RELEASE=18.04\n",
    "DISTRIB_CODENAME=bionic\n",
    "DISTRIB_DESCRIPTION=\"Ubuntu 18.04.3 LTS\"\n",
    "```\n",
    "Viola! See that? It is a ubuntu 18.04, where as your host is 16.04.\n",
    "\n",
    "##### Quiz: what do ```-i``` and ```-t``` do?\n"
   ]
  },
  {
   "cell_type": "markdown",
   "metadata": {
    "slideshow": {
     "slide_type": "slide"
    }
   },
   "source": [
    "Now, try apt install some packages.\n",
    "```\n",
    "root@3f447cf241e8:/# python --version\n",
    "bash: python: command not found\n",
    "```\n",
    "I suggest python since this image doesn't come with python\n",
    "\n",
    "```apt-get update && apt-get install python```\n",
    "\n",
    "```\n",
    "root@3f447cf241e8:/# python --version\n",
    "Python 2.7.15+\n",
    "```"
   ]
  },
  {
   "cell_type": "markdown",
   "metadata": {
    "slideshow": {
     "slide_type": "slide"
    }
   },
   "source": [
    "# Check Container Instances\n",
    "\n",
    "Do not exit the interactive shell earlier. Open another terminal, log in to your system and do the following\n",
    "\n",
    "```docker ps```\n",
    "\n",
    "```\n",
    "vchua@flexpg-vbox1:~$ docker ps\n",
    "\n",
    "CONTAINER ID        IMAGE               COMMAND             CREATED             STATUS              PORTS               NAMES\n",
    "3f447cf241e8        ubuntu:18.04        \"/bin/bash\"         53 minutes ago      Up 53 minutes                           priceless_ardinghelli\n",
    "```\n",
    "\n",
    "This is analogous to the linux ```ps``` command, for docker, it lists the instantiated containers, by default, it returns the containers that are alive.\n",
    "\n",
    "##### Quiz: Find out how to list the exited containers, how to filter the ```docker ps``` table"
   ]
  },
  {
   "cell_type": "markdown",
   "metadata": {
    "slideshow": {
     "slide_type": "slide"
    }
   },
   "source": [
    "# More Shell with the same instance\n",
    "\n",
    "\n",
    "```\n",
    "vchua@flexpg-vbox1:~$ docker ps\n",
    "\n",
    "CONTAINER ID        IMAGE               COMMAND             CREATED             STATUS              PORTS               NAMES\n",
    "3f447cf241e8        ubuntu:18.04        \"/bin/bash\"         53 minutes ago      Up 53 minutes                           priceless_ardinghelli\n",
    "```\n",
    "\n",
    "Try the following:\n",
    "\n",
    "```docker exec -i -t priceless_ardinghelli bash```\n",
    "\n",
    "```docker exec -i -t 3f447cf241e8 bash```\n",
    "\n",
    "```docker exec priceless_ardinghelli python --version```"
   ]
  },
  {
   "cell_type": "markdown",
   "metadata": {
    "slideshow": {
     "slide_type": "slide"
    }
   },
   "source": [
    "# Commit Changes done in Interactive Session\n",
    "\n",
    "##### Quiz: what happen if we exit the shell now?\n",
    "\n",
    "When we exit the interactive shell, we lose all the work we've done during session. To save the work, docker provides a ```commit``` command that create another container image that preserves the work has been performed.\n",
    "\n",
    "Using the instance that has python installed, let's commit it to an image. \n",
    "\n",
    "To do that, we need to get the **Container Id** or **Name** of the instance, open another terminal and log in to your system.\n",
    "\n",
    "```docker ps```\n",
    "```\n",
    "vchua@flexpg-vbox1:~$ docker ps\n",
    "CONTAINER ID        IMAGE               COMMAND             CREATED             STATUS              PORTS               NAMES\n",
    "3f447cf241e8        ubuntu:18.04        \"/bin/bash\"         53 minutes ago      Up 53 minutes                           priceless_ardinghelli\n",
    "```\n",
    "\n",
    "```docker commit 3f447cf241e8 ubt1804:py3``` or \n",
    "\n",
    "```docker commit priceless_ardinghelli ubt1804:py3```"
   ]
  },
  {
   "cell_type": "markdown",
   "metadata": {
    "slideshow": {
     "slide_type": "slide"
    }
   },
   "source": [
    "```\n",
    "vchua@flexpg-vbox1:~$ docker commit 3f447cf241e8 ubt1804:py3\n",
    "sha256:a2193a2181e603b18536240678fd0f57a40aea41755dc36817ebc0c9af10cdc9\n",
    "```\n",
    "\n",
    "List the local container images and check if the new image exists.\n",
    "\n",
    "```docker images```\n",
    "\n",
    "```\n",
    "vchua@flexpg-vbox1:~$ docker images\n",
    "REPOSITORY          TAG                 IMAGE ID            CREATED             SIZE\n",
    "ubt1804             py3                 a2193a2181e6        3 minutes ago       491MB\n",
    "ubuntu              16.04               657d80a6401d        2 weeks ago         121MB\n",
    "favorite-ubt        v0                  657d80a6401d        2 weeks ago         121MB\n",
    "ubuntu              18.04               2ca708c1c9cc        2 weeks ago         64.2MB\n",
    "ubuntu              latest              2ca708c1c9cc        2 weeks ago         64.2MB\n",
    "hello-world         latest              fce289e99eb9        9 months ago        1.84kB\n",
    "```\n",
    "\n",
    "\n",
    "Now, let's see if python is in the new image.\n",
    "\n",
    "```docker run ubt1804:py3 python --version```\n",
    "```\n",
    "vchua@flexpg-vbox1:~$ docker run ubt1804:py3 python --version\n",
    "Python 2.7.15+\n",
    "```"
   ]
  },
  {
   "cell_type": "markdown",
   "metadata": {
    "slideshow": {
     "slide_type": "slide"
    }
   },
   "source": [
    "# Share Container Images\n",
    "\n",
    "Thus far, when we do ```docker images```, we see the containers which are available locally, the downloaded images and/or the ones we build. Yes, you can come back the other day and start from your committed container but this isn't great enough, your great apps should be shared or deployed. How can we transfer the container to an external system?\n",
    "\n",
    "1. Native docker ```save``` and ```load``` commands\n",
    "2. Using a registry\n",
    "    - Docker Hub\n",
    "    - Registry hosted by anyone"
   ]
  },
  {
   "cell_type": "markdown",
   "metadata": {
    "slideshow": {
     "slide_type": "slide"
    }
   },
   "source": [
    "# Save, Share & Load\n",
    "\n",
    "Let's share the container ```ubt1804:py3```\n",
    "\n",
    "```docker save ubt1804:py3 -o ubt1804-py3.tar.gz```\n",
    "\n",
    "We can share ubt1804-py3.tar via any methods for any file, i.e. cp, scp, thumbdrive etc\n",
    "\n",
    "To recover the tarball at an external system,\n",
    "\n",
    "```docker load -i ubt1804-py3.tar.gz```\n",
    "\n",
    "Do ```docker images``` once the above is complete"
   ]
  },
  {
   "cell_type": "markdown",
   "metadata": {
    "slideshow": {
     "slide_type": "slide"
    }
   },
   "source": [
    "# Using a Registry - Docker Hub\n",
    "\n",
    "Registry is the appropriate way to share image, we can manage the access of the images. The steps to publish or push an image:\n",
    "1. log in to registry. When no registry address is provided, this logs in to dockerhub.\n",
    "\n",
    "```docker login```\n",
    "   \n",
    "2. tag the image with account as prefix of the image tag. \n",
    "\n",
    "```docker tag ubt1804:py3 vuiseng9/ubt1804:py3```\n",
    "\n",
    "3. push the newly-tagged image to registry\n",
    "\n",
    "```docker push vuiseng9/ubt1804:py3```"
   ]
  },
  {
   "cell_type": "markdown",
   "metadata": {
    "slideshow": {
     "slide_type": "slide"
    }
   },
   "source": [
    "Following is how I share the image publicly to dockerhub account\n",
    "```\n",
    "vchua@flexpg-vbox1:~$ docker login\n",
    "Login with your Docker ID to push and pull images from Docker Hub. If you don't have a Docker ID, head over to https://hub.docker.com to create one.\n",
    "Username: vuiseng9\n",
    "Password:\n",
    "WARNING! Your password will be stored unencrypted in /home/vchua/.docker/config.json.\n",
    "Configure a credential helper to remove this warning. See\n",
    "https://docs.docker.com/engine/reference/commandline/login/#credentials-store\n",
    "\n",
    "Login Succeeded\n",
    "\n",
    "\n",
    "vchua@flexpg-vbox1:~$ docker tag ubt1804:py3 vuiseng9/ubt1804:py3\n",
    "\n",
    "vchua@flexpg-vbox1:~$ docker images\n",
    "REPOSITORY          TAG                 IMAGE ID            CREATED             SIZE\n",
    "ubt1804             py3                 a2193a2181e6        3 hours ago         491MB\n",
    "vuiseng9/ubt1804    py3                 a2193a2181e6        3 hours ago         491MB\n",
    "favorite-ubt        v0                  657d80a6401d        2 weeks ago         121MB\n",
    "ubuntu              16.04               657d80a6401d        2 weeks ago         121MB\n",
    "ubuntu              18.04               2ca708c1c9cc        2 weeks ago         64.2MB\n",
    "ubuntu              latest              2ca708c1c9cc        2 weeks ago         64.2MB\n",
    "hello-world         latest              fce289e99eb9        9 months ago        1.84kB\n",
    "\n",
    "\n",
    "vchua@flexpg-vbox1:~$ docker push vuiseng9/ubt1804:py3\n",
    "The push refers to repository [docker.io/vuiseng9/ubt1804]\n",
    "a61f6cdb0908: Pushed\n",
    "e80c789bc6ac: Mounted from library/ubuntu\n",
    "6c3332381368: Mounted from library/ubuntu\n",
    "ef1a1ec5bba9: Mounted from library/ubuntu\n",
    "a1aa3da2a80a: Mounted from library/ubuntu\n",
    "```\n"
   ]
  },
  {
   "cell_type": "markdown",
   "metadata": {
    "slideshow": {
     "slide_type": "slide"
    }
   },
   "source": [
    "# Using Container Registry of Intel CaaS\n",
    "\n",
    "[Intel Container as a Service](https://soco.intel.com/groups/caas-evaluation-workgroup/blog/2018/11/06/introducing-containers-as-a-service-in-production) provides container registry service for convenient image sharing internally. It uses [Harbor](https://goharbor.io/) which integrates well with Intel AGS process and can easily control the access level of the shared containers.\n",
    "\n",
    "Good News! We have created a project for our day-to-day usage and your access has been approved! Let's go for a spin.\n",
    "\n",
    "**Browse https://gar-registry.caas.intel.com and navigate to project flexpg and see the available images**\n"
   ]
  },
  {
   "cell_type": "markdown",
   "metadata": {
    "slideshow": {
     "slide_type": "slide"
    }
   },
   "source": [
    "To interact (push, pull etc) with CaaS Registry, we need to download the CA certifate.  \n",
    "```bash\n",
    "git clone https://gitlab.devtools.intel.com/caas-public/general && chmod +x general/scripts/ca_install.sh && sudo general/scripts/ca_install.sh && rm -rf general\n",
    "\n",
    "sudo systemctl restart docker\n",
    "```"
   ]
  },
  {
   "cell_type": "markdown",
   "metadata": {
    "slideshow": {
     "slide_type": "slide"
    }
   },
   "source": [
    "Back to the topic, let's share our container internally.\n",
    "\n",
    "\n",
    "\n",
    "1. log in to registry with your windows credential\n",
    "\n",
    "```docker login https://gar-registry.caas.intel.com```\n",
    "\n",
    "2. tag the image with registry and project as prefix of the image tag. \n",
    "  \n",
    "```docker tag ubt1804:py3 gar-registry.caas.intel.com/flexpg/ubt1804:py3```\n",
    "\n",
    "3. push the newly-tagged image to registry\n",
    "\n",
    "```docker push gar-registry.caas.intel.com/flexpg/ubt1804:py3```\n",
    "\n",
    "\n",
    "##### Quiz: Use Rest API to list the images in the registrt\n",
    "##### Quiz: Try pulling image from CaaS"
   ]
  },
  {
   "cell_type": "markdown",
   "metadata": {
    "slideshow": {
     "slide_type": "slide"
    }
   },
   "source": [
    "```\n",
    "vchua@flexpg-vbox1:~$ docker login https://gar-registry.caas.intel.com\n",
    "Username: vchua\n",
    "Password:\n",
    "WARNING! Your password will be stored unencrypted in /home/vchua/.docker/config.json.\n",
    "Configure a credential helper to remove this warning. See\n",
    "https://docs.docker.com/engine/reference/commandline/login/#credentials-store\n",
    "\n",
    "Login Succeeded\n",
    "\n",
    "\n",
    "vchua@flexpg-vbox1:~$ docker tag ubt1804:py3 gar-registry.caas.intel.com/flexpg/ubt1804:py3\n",
    "\n",
    "\n",
    "vchua@flexpg-vbox1:~$ docker images\n",
    "REPOSITORY                                   TAG                 IMAGE ID            CREATED             SIZE\n",
    "vuiseng9/ubt1804                             py3                 a2193a2181e6        12 hours ago        491MB\n",
    "gar-registry.caas.intel.com/flexpg/ubt1804   py3                 a2193a2181e6        12 hours ago        491MB\n",
    "ubt1804                                      py3                 a2193a2181e6        12 hours ago        491MB\n",
    "ubuntu                                       16.04               657d80a6401d        2 weeks ago         121MB\n",
    "favorite-ubt                                 v0                  657d80a6401d        2 weeks ago         121MB\n",
    "ubuntu                                       18.04               2ca708c1c9cc        2 weeks ago         64.2MB\n",
    "ubuntu                                       latest              2ca708c1c9cc        2 weeks ago         64.2MB\n",
    "hello-world                                  latest              fce289e99eb9        9 months ago        1.84kB\n",
    "\n",
    "\n",
    "vchua@flexpg-vbox1:~$ docker push gar-registry.caas.intel.com/flexpg/ubt1804:py3\n",
    "The push refers to repository [gar-registry.caas.intel.com/flexpg/ubt1804]\n",
    "a61f6cdb0908: Pushed\n",
    "e80c789bc6ac: Pushed\n",
    "6c3332381368: Pushed\n",
    "ef1a1ec5bba9: Pushed\n",
    "a1aa3da2a80a: Pushed\n",
    "py3: digest: sha256:fc3deecd75b7a525d692ca863dc5c7b1ab0fe907f2e368d46fd19685829bab2c size: 1365\n",
    "\n",
    "```"
   ]
  },
  {
   "cell_type": "markdown",
   "metadata": {
    "slideshow": {
     "slide_type": "slide"
    }
   },
   "source": [
    "# Assignment #1\n",
    "\n",
    "1. Containerize your favorite app through the interactive docker instance.\n",
    "2. Push your image to our registry at **gar-registry.caas.intel.com/flexpg**\n",
    "3. Email to vui.seng.chua@intel.com with a short description of your container and the docker command with entrypoint\n",
    "4. [Optional] Create an account in dockerhub and share your app to the world! When you do this, please beware of sharing Intel restricted IP and information!"
   ]
  },
  {
   "cell_type": "markdown",
   "metadata": {
    "slideshow": {
     "slide_type": "slide"
    }
   },
   "source": [
    "# Next Session\n",
    "\n",
    "Focus on \n",
    "\n",
    "## Automated Container Build - Dockerfile\n"
   ]
  }
 ],
 "metadata": {
  "celltoolbar": "Slideshow",
  "kernelspec": {
   "display_name": "Python 3",
   "language": "python",
   "name": "python3"
  },
  "language_info": {
   "codemirror_mode": {
    "name": "ipython",
    "version": 3
   },
   "file_extension": ".py",
   "mimetype": "text/x-python",
   "name": "python",
   "nbconvert_exporter": "python",
   "pygments_lexer": "ipython3",
   "version": "3.6.8"
  }
 },
 "nbformat": 4,
 "nbformat_minor": 2
}
